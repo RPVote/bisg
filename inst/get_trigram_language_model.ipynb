{
 "cells": [
  {
   "cell_type": "code",
   "execution_count": 1,
   "id": "editorial-hungarian",
   "metadata": {},
   "outputs": [],
   "source": [
    "import os\n",
    "\n",
    "from nltk import ngrams\n",
    "\n",
    "from collections import Counter, defaultdict\n",
    "from tqdm import tqdm\n",
    "\n",
    "import pandas as pd\n",
    "import numpy as np"
   ]
  },
  {
   "cell_type": "markdown",
   "id": "behavioral-gasoline",
   "metadata": {},
   "source": [
    "### Import surnames and get weights"
   ]
  },
  {
   "cell_type": "code",
   "execution_count": 2,
   "id": "million-generic",
   "metadata": {
    "scrolled": true
   },
   "outputs": [
    {
     "name": "stdout",
     "output_type": "stream",
     "text": [
      "(167613, 6)\n"
     ]
    },
    {
     "data": {
      "text/html": [
       "<div>\n",
       "<style scoped>\n",
       "    .dataframe tbody tr th:only-of-type {\n",
       "        vertical-align: middle;\n",
       "    }\n",
       "\n",
       "    .dataframe tbody tr th {\n",
       "        vertical-align: top;\n",
       "    }\n",
       "\n",
       "    .dataframe thead th {\n",
       "        text-align: right;\n",
       "    }\n",
       "</style>\n",
       "<table border=\"1\" class=\"dataframe\">\n",
       "  <thead>\n",
       "    <tr style=\"text-align: right;\">\n",
       "      <th></th>\n",
       "      <th>surname</th>\n",
       "      <th>p_whi</th>\n",
       "      <th>p_bla</th>\n",
       "      <th>p_his</th>\n",
       "      <th>p_asi</th>\n",
       "      <th>p_oth</th>\n",
       "    </tr>\n",
       "  </thead>\n",
       "  <tbody>\n",
       "    <tr>\n",
       "      <th>0</th>\n",
       "      <td>SMITH</td>\n",
       "      <td>0.7090</td>\n",
       "      <td>0.2311</td>\n",
       "      <td>0.0240</td>\n",
       "      <td>0.0050</td>\n",
       "      <td>0.0308</td>\n",
       "    </tr>\n",
       "    <tr>\n",
       "      <th>1</th>\n",
       "      <td>JOHNSON</td>\n",
       "      <td>0.5897</td>\n",
       "      <td>0.3463</td>\n",
       "      <td>0.0236</td>\n",
       "      <td>0.0054</td>\n",
       "      <td>0.0350</td>\n",
       "    </tr>\n",
       "    <tr>\n",
       "      <th>2</th>\n",
       "      <td>WILLIAMS</td>\n",
       "      <td>0.4575</td>\n",
       "      <td>0.4768</td>\n",
       "      <td>0.0249</td>\n",
       "      <td>0.0046</td>\n",
       "      <td>0.0363</td>\n",
       "    </tr>\n",
       "    <tr>\n",
       "      <th>3</th>\n",
       "      <td>BROWN</td>\n",
       "      <td>0.5795</td>\n",
       "      <td>0.3560</td>\n",
       "      <td>0.0252</td>\n",
       "      <td>0.0051</td>\n",
       "      <td>0.0342</td>\n",
       "    </tr>\n",
       "    <tr>\n",
       "      <th>4</th>\n",
       "      <td>JONES</td>\n",
       "      <td>0.5519</td>\n",
       "      <td>0.3848</td>\n",
       "      <td>0.0229</td>\n",
       "      <td>0.0044</td>\n",
       "      <td>0.0361</td>\n",
       "    </tr>\n",
       "  </tbody>\n",
       "</table>\n",
       "</div>"
      ],
      "text/plain": [
       "    surname   p_whi   p_bla   p_his   p_asi   p_oth\n",
       "0     SMITH  0.7090  0.2311  0.0240  0.0050  0.0308\n",
       "1   JOHNSON  0.5897  0.3463  0.0236  0.0054  0.0350\n",
       "2  WILLIAMS  0.4575  0.4768  0.0249  0.0046  0.0363\n",
       "3     BROWN  0.5795  0.3560  0.0252  0.0051  0.0342\n",
       "4     JONES  0.5519  0.3848  0.0229  0.0044  0.0361"
      ]
     },
     "execution_count": 2,
     "metadata": {},
     "output_type": "execute_result"
    }
   ],
   "source": [
    "surnames = pd.read_csv(\"surnames2010.csv\")\n",
    "print(surnames.shape)\n",
    "surnames.head()"
   ]
  },
  {
   "cell_type": "code",
   "execution_count": 3,
   "id": "loose-berlin",
   "metadata": {},
   "outputs": [
    {
     "name": "stdout",
     "output_type": "stream",
     "text": [
      "(162254, 2)\n"
     ]
    },
    {
     "data": {
      "text/html": [
       "<div>\n",
       "<style scoped>\n",
       "    .dataframe tbody tr th:only-of-type {\n",
       "        vertical-align: middle;\n",
       "    }\n",
       "\n",
       "    .dataframe tbody tr th {\n",
       "        vertical-align: top;\n",
       "    }\n",
       "\n",
       "    .dataframe thead th {\n",
       "        text-align: right;\n",
       "    }\n",
       "</style>\n",
       "<table border=\"1\" class=\"dataframe\">\n",
       "  <thead>\n",
       "    <tr style=\"text-align: right;\">\n",
       "      <th></th>\n",
       "      <th>surname</th>\n",
       "      <th>weight</th>\n",
       "    </tr>\n",
       "  </thead>\n",
       "  <tbody>\n",
       "    <tr>\n",
       "      <th>0</th>\n",
       "      <td>SMITH</td>\n",
       "      <td>0.008282</td>\n",
       "    </tr>\n",
       "    <tr>\n",
       "      <th>1</th>\n",
       "      <td>JOHNSON</td>\n",
       "      <td>0.006552</td>\n",
       "    </tr>\n",
       "    <tr>\n",
       "      <th>2</th>\n",
       "      <td>WILLIAMS</td>\n",
       "      <td>0.005510</td>\n",
       "    </tr>\n",
       "    <tr>\n",
       "      <th>3</th>\n",
       "      <td>BROWN</td>\n",
       "      <td>0.004872</td>\n",
       "    </tr>\n",
       "    <tr>\n",
       "      <th>4</th>\n",
       "      <td>JONES</td>\n",
       "      <td>0.004832</td>\n",
       "    </tr>\n",
       "  </tbody>\n",
       "</table>\n",
       "</div>"
      ],
      "text/plain": [
       "    surname    weight\n",
       "0     SMITH  0.008282\n",
       "1   JOHNSON  0.006552\n",
       "2  WILLIAMS  0.005510\n",
       "3     BROWN  0.004872\n",
       "4     JONES  0.004832"
      ]
     },
     "execution_count": 3,
     "metadata": {},
     "output_type": "execute_result"
    }
   ],
   "source": [
    "surnames_counts = pd.read_csv(\"Names_2010Census.csv\")\n",
    "surnames_counts['weight'] = surnames_counts['prop100k'] / 100000\n",
    "surnames_counts = surnames_counts[['name', 'weight']]\n",
    "surnames_counts = surnames_counts.rename(columns={\"name\": \"surname\", \"weight\": \"weight\"})\n",
    "print(surnames_counts.shape)\n",
    "surnames_counts.head()"
   ]
  },
  {
   "cell_type": "code",
   "execution_count": 4,
   "id": "brutal-bacteria",
   "metadata": {
    "scrolled": true
   },
   "outputs": [
    {
     "data": {
      "text/html": [
       "<div>\n",
       "<style scoped>\n",
       "    .dataframe tbody tr th:only-of-type {\n",
       "        vertical-align: middle;\n",
       "    }\n",
       "\n",
       "    .dataframe tbody tr th {\n",
       "        vertical-align: top;\n",
       "    }\n",
       "\n",
       "    .dataframe thead th {\n",
       "        text-align: right;\n",
       "    }\n",
       "</style>\n",
       "<table border=\"1\" class=\"dataframe\">\n",
       "  <thead>\n",
       "    <tr style=\"text-align: right;\">\n",
       "      <th></th>\n",
       "      <th>surname</th>\n",
       "      <th>p_whi</th>\n",
       "      <th>p_bla</th>\n",
       "      <th>p_his</th>\n",
       "      <th>p_asi</th>\n",
       "      <th>p_oth</th>\n",
       "      <th>weight</th>\n",
       "    </tr>\n",
       "  </thead>\n",
       "  <tbody>\n",
       "    <tr>\n",
       "      <th>0</th>\n",
       "      <td>SMITH</td>\n",
       "      <td>0.7090</td>\n",
       "      <td>0.2311</td>\n",
       "      <td>0.0240</td>\n",
       "      <td>0.0050</td>\n",
       "      <td>0.0308</td>\n",
       "      <td>0.008282</td>\n",
       "    </tr>\n",
       "    <tr>\n",
       "      <th>1</th>\n",
       "      <td>JOHNSON</td>\n",
       "      <td>0.5897</td>\n",
       "      <td>0.3463</td>\n",
       "      <td>0.0236</td>\n",
       "      <td>0.0054</td>\n",
       "      <td>0.0350</td>\n",
       "      <td>0.006552</td>\n",
       "    </tr>\n",
       "    <tr>\n",
       "      <th>2</th>\n",
       "      <td>WILLIAMS</td>\n",
       "      <td>0.4575</td>\n",
       "      <td>0.4768</td>\n",
       "      <td>0.0249</td>\n",
       "      <td>0.0046</td>\n",
       "      <td>0.0363</td>\n",
       "      <td>0.005510</td>\n",
       "    </tr>\n",
       "    <tr>\n",
       "      <th>3</th>\n",
       "      <td>BROWN</td>\n",
       "      <td>0.5795</td>\n",
       "      <td>0.3560</td>\n",
       "      <td>0.0252</td>\n",
       "      <td>0.0051</td>\n",
       "      <td>0.0342</td>\n",
       "      <td>0.004872</td>\n",
       "    </tr>\n",
       "    <tr>\n",
       "      <th>4</th>\n",
       "      <td>JONES</td>\n",
       "      <td>0.5519</td>\n",
       "      <td>0.3848</td>\n",
       "      <td>0.0229</td>\n",
       "      <td>0.0044</td>\n",
       "      <td>0.0361</td>\n",
       "      <td>0.004832</td>\n",
       "    </tr>\n",
       "  </tbody>\n",
       "</table>\n",
       "</div>"
      ],
      "text/plain": [
       "    surname   p_whi   p_bla   p_his   p_asi   p_oth    weight\n",
       "0     SMITH  0.7090  0.2311  0.0240  0.0050  0.0308  0.008282\n",
       "1   JOHNSON  0.5897  0.3463  0.0236  0.0054  0.0350  0.006552\n",
       "2  WILLIAMS  0.4575  0.4768  0.0249  0.0046  0.0363  0.005510\n",
       "3     BROWN  0.5795  0.3560  0.0252  0.0051  0.0342  0.004872\n",
       "4     JONES  0.5519  0.3848  0.0229  0.0044  0.0361  0.004832"
      ]
     },
     "execution_count": 4,
     "metadata": {},
     "output_type": "execute_result"
    }
   ],
   "source": [
    "surnames = pd.merge(surnames, surnames_counts, on=['surname'])\n",
    "surnames.head()"
   ]
  },
  {
   "cell_type": "markdown",
   "id": "warming-nicaragua",
   "metadata": {},
   "source": [
    "### Function to count trygram occurrences"
   ]
  },
  {
   "cell_type": "code",
   "execution_count": 5,
   "id": "african-savings",
   "metadata": {
    "scrolled": false
   },
   "outputs": [],
   "source": [
    "def get_counts(surnames):\n",
    "    whi_model = defaultdict(lambda: defaultdict(lambda: 0))\n",
    "    bla_model = defaultdict(lambda: defaultdict(lambda: 0))\n",
    "    his_model = defaultdict(lambda: defaultdict(lambda: 0))\n",
    "    asi_model = defaultdict(lambda: defaultdict(lambda: 0))\n",
    "    oth_model = defaultdict(lambda: defaultdict(lambda: 0))\n",
    "\n",
    "    for ii in tqdm(range(0, surnames.shape[0])):\n",
    "        try:\n",
    "            surname = list(surnames['surname'][ii].upper())\n",
    "            surname_ngrams = ngrams(surnames['surname'][ii], n = 3, \n",
    "                                     pad_right = True, pad_left = True, \n",
    "                                     left_pad_symbol='<', right_pad_symbol='>')\n",
    "            for l1, l2, l3 in surname_ngrams:\n",
    "                whi_model[(l1, l2)][l3] += surnames['p_whi'][ii]*surnames['weight'][ii]\n",
    "                bla_model[(l1, l2)][l3] += surnames['p_bla'][ii]*surnames['weight'][ii]\n",
    "                his_model[(l1, l2)][l3] += surnames['p_his'][ii]*surnames['weight'][ii]\n",
    "                asi_model[(l1, l2)][l3] += surnames['p_asi'][ii]*surnames['weight'][ii]\n",
    "                oth_model[(l1, l2)][l3] += surnames['p_oth'][ii]*surnames['weight'][ii]\n",
    "        except:\n",
    "            print(\"Error on case {}\".format(ii))\n",
    "            \n",
    "    return whi_model, bla_model, his_model, asi_model, oth_model"
   ]
  },
  {
   "cell_type": "code",
   "execution_count": 6,
   "id": "focal-manual",
   "metadata": {
    "scrolled": true
   },
   "outputs": [
    {
     "name": "stderr",
     "output_type": "stream",
     "text": [
      "  3%|▎         | 5062/162253 [00:04<02:23, 1098.36it/s]"
     ]
    },
    {
     "name": "stdout",
     "output_type": "stream",
     "text": [
      "Error on case 4909\n"
     ]
    },
    {
     "name": "stderr",
     "output_type": "stream",
     "text": [
      "100%|██████████| 162253/162253 [02:55<00:00, 922.91it/s] \n"
     ]
    }
   ],
   "source": [
    "whi_model, bla_model, his_model, asi_model, oth_model = get_counts(surnames)"
   ]
  },
  {
   "cell_type": "markdown",
   "id": "flying-heading",
   "metadata": {},
   "source": [
    "### Convert counts to conditional probabilities "
   ]
  },
  {
   "cell_type": "code",
   "execution_count": 7,
   "id": "powerful-glossary",
   "metadata": {
    "scrolled": true
   },
   "outputs": [
    {
     "name": "stderr",
     "output_type": "stream",
     "text": [
      "<ipython-input-7-c3cb4357f4a4>:10: RuntimeWarning: invalid value encountered in double_scalars\n",
      "  bla_model[l1_l2][l3] /= bla_total_count\n",
      "<ipython-input-7-c3cb4357f4a4>:12: RuntimeWarning: invalid value encountered in double_scalars\n",
      "  asi_model[l1_l2][l3] /= asi_total_count\n",
      "<ipython-input-7-c3cb4357f4a4>:13: RuntimeWarning: invalid value encountered in double_scalars\n",
      "  oth_model[l1_l2][l3] /= oth_total_count\n",
      "<ipython-input-7-c3cb4357f4a4>:9: RuntimeWarning: invalid value encountered in double_scalars\n",
      "  whi_model[l1_l2][l3] /= whi_total_count\n"
     ]
    }
   ],
   "source": [
    "for l1_l2 in whi_model:\n",
    "    whi_total_count = float(sum(whi_model[l1_l2].values()))\n",
    "    bla_total_count = float(sum(bla_model[l1_l2].values()))\n",
    "    his_total_count = float(sum(his_model[l1_l2].values()))\n",
    "    asi_total_count = float(sum(asi_model[l1_l2].values()))\n",
    "    oth_total_count = float(sum(oth_model[l1_l2].values()))\n",
    "    \n",
    "    for l3 in whi_model[l1_l2]:\n",
    "        whi_model[l1_l2][l3] /= whi_total_count\n",
    "        bla_model[l1_l2][l3] /= bla_total_count\n",
    "        his_model[l1_l2][l3] /= his_total_count\n",
    "        asi_model[l1_l2][l3] /= asi_total_count\n",
    "        oth_model[l1_l2][l3] /= oth_total_count"
   ]
  },
  {
   "cell_type": "markdown",
   "id": "separated-example",
   "metadata": {},
   "source": [
    "### Function to get P(R|S) for a single name and race"
   ]
  },
  {
   "cell_type": "code",
   "execution_count": 8,
   "id": "magnetic-quantum",
   "metadata": {},
   "outputs": [],
   "source": [
    "def get_name_prob(surname, model, return_probs = False):\n",
    "    probs = defaultdict()\n",
    "    surname = surname.upper()\n",
    "    p_surname = 1\n",
    "    surname_ngrams = ngrams(surname, n = 3, \n",
    "                                 pad_right = True, pad_left = True, \n",
    "                                 left_pad_symbol='<', right_pad_symbol='>')\n",
    "    for l1, l2, l3 in surname_ngrams:\n",
    "        cond_prob = model[(l1, l2)][l3]\n",
    "        probs[(l1, l2, l3)] = cond_prob\n",
    "        p_surname *= cond_prob\n",
    "    \n",
    "    if return_probs:\n",
    "        return p_surname, probs\n",
    "    else:\n",
    "        return p_surname"
   ]
  },
  {
   "cell_type": "code",
   "execution_count": 10,
   "id": "subsequent-demand",
   "metadata": {},
   "outputs": [
    {
     "data": {
      "text/plain": [
       "(0.0006297469929376308,\n",
       " defaultdict(None,\n",
       "             {('<', '<', 'S'): 0.10301164973888023,\n",
       "              ('<', 'S', 'M'): 0.11203091254685146,\n",
       "              ('S', 'M', 'I'): 0.7781645677040535,\n",
       "              ('M', 'I', 'T'): 0.3960144375590823,\n",
       "              ('I', 'T', 'H'): 0.3663670976402352,\n",
       "              ('T', 'H', '>'): 0.4833291080316953,\n",
       "              ('H', '>', '>'): 1.0}))"
      ]
     },
     "execution_count": 10,
     "metadata": {},
     "output_type": "execute_result"
    }
   ],
   "source": [
    "get_name_prob(\"Smith\", whi_model, return_probs = True)"
   ]
  },
  {
   "cell_type": "code",
   "execution_count": 11,
   "id": "legal-beijing",
   "metadata": {},
   "outputs": [
    {
     "data": {
      "text/plain": [
       "(0.0020614759943320266,\n",
       " defaultdict(None,\n",
       "             {('<', '<', 'S'): 0.08376543645490296,\n",
       "              ('<', 'S', 'M'): 0.22566689407628474,\n",
       "              ('S', 'M', 'I'): 0.8963251034236016,\n",
       "              ('M', 'I', 'T'): 0.5706655660271983,\n",
       "              ('I', 'T', 'H'): 0.4802278038253288,\n",
       "              ('T', 'H', '>'): 0.4439673634165719,\n",
       "              ('H', '>', '>'): 1.0}))"
      ]
     },
     "execution_count": 11,
     "metadata": {},
     "output_type": "execute_result"
    }
   ],
   "source": [
    "get_name_prob(\"Smith\", bla_model, return_probs = True)"
   ]
  },
  {
   "cell_type": "code",
   "execution_count": 95,
   "id": "attended-steam",
   "metadata": {},
   "outputs": [],
   "source": [
    "models = {\n",
    "    \"whi\": whi_model,\n",
    "    \"bla\": bla_model,\n",
    "    \"his\": his_model,\n",
    "    \"asi\": asi_model,\n",
    "    \"oth\": oth_model\n",
    "}"
   ]
  },
  {
   "cell_type": "markdown",
   "id": "weird-round",
   "metadata": {},
   "source": [
    "### Get full distribution over race groups"
   ]
  },
  {
   "cell_type": "code",
   "execution_count": 96,
   "id": "interpreted-munich",
   "metadata": {},
   "outputs": [],
   "source": [
    "def get_race_probs(surname, models):\n",
    "    results = defaultdict()\n",
    "    for race, model in models.items():\n",
    "        results[race] = get_name_prob(surname, model)\n",
    "    total = sum(results.values())\n",
    "    for race in results:\n",
    "        results[race] /= total\n",
    "    return results"
   ]
  },
  {
   "cell_type": "code",
   "execution_count": 97,
   "id": "specific-liberty",
   "metadata": {},
   "outputs": [
    {
     "name": "stdout",
     "output_type": "stream",
     "text": [
      "    surname   p_whi   p_bla   p_his   p_asi   p_oth    weight\n",
      "0     SMITH  0.7090  0.2311  0.0240  0.0050  0.0308  0.008282\n",
      "1   JOHNSON  0.5897  0.3463  0.0236  0.0054  0.0350  0.006552\n",
      "2  WILLIAMS  0.4575  0.4768  0.0249  0.0046  0.0363  0.005510\n",
      "3     BROWN  0.5795  0.3560  0.0252  0.0051  0.0342  0.004872\n",
      "4     JONES  0.5519  0.3848  0.0229  0.0044  0.0361  0.004832\n"
     ]
    },
    {
     "data": {
      "text/plain": [
       "defaultdict(None,\n",
       "            {'whi': 0.17779520314835587,\n",
       "             'bla': 0.5820123753000933,\n",
       "             'his': 0.0014056554570174005,\n",
       "             'asi': 0.0008225314773946631,\n",
       "             'oth': 0.2379642346171387})"
      ]
     },
     "execution_count": 97,
     "metadata": {},
     "output_type": "execute_result"
    }
   ],
   "source": [
    "print(surnames.head())\n",
    "get_race_probs(\"smith\", models)"
   ]
  },
  {
   "cell_type": "code",
   "execution_count": 98,
   "id": "floral-string",
   "metadata": {},
   "outputs": [
    {
     "data": {
      "text/plain": [
       "defaultdict(None,\n",
       "            {'whi': 0.07758016566850848,\n",
       "             'bla': 0.7179600975892731,\n",
       "             'his': 0.0010928060188440149,\n",
       "             'asi': 0.0005604610304707167,\n",
       "             'oth': 0.20280646969290372})"
      ]
     },
     "execution_count": 98,
     "metadata": {},
     "output_type": "execute_result"
    }
   ],
   "source": [
    "get_race_probs(\"johnson\", models)"
   ]
  },
  {
   "cell_type": "code",
   "execution_count": 99,
   "id": "danish-providence",
   "metadata": {},
   "outputs": [
    {
     "data": {
      "text/plain": [
       "(0.0067298366923897535,\n",
       " defaultdict(None,\n",
       "             {('<', '<', 'J'): 0.06834777322076013,\n",
       "              ('<', 'J', 'O'): 0.625683436532375,\n",
       "              ('J', 'O', 'H'): 0.48490907287117685,\n",
       "              ('O', 'H', 'N'): 0.9326873905538675,\n",
       "              ('H', 'N', 'S'): 0.9372152664113177,\n",
       "              ('N', 'S', 'O'): 0.4883239499946842,\n",
       "              ('S', 'O', 'N'): 0.9699644308808777,\n",
       "              ('O', 'N', '>'): 0.7838372426315613,\n",
       "              ('N', '>', '>'): 1.0}))"
      ]
     },
     "execution_count": 99,
     "metadata": {},
     "output_type": "execute_result"
    }
   ],
   "source": [
    "get_name_prob(\"johnson\", bla_model, return_probs = True)"
   ]
  },
  {
   "cell_type": "code",
   "execution_count": 100,
   "id": "genetic-effectiveness",
   "metadata": {
    "scrolled": true
   },
   "outputs": [
    {
     "data": {
      "text/plain": [
       "(0.0007272017585248665,\n",
       " defaultdict(None,\n",
       "             {('<', '<', 'J'): 0.02624867441121226,\n",
       "              ('<', 'J', 'O'): 0.5710038122841791,\n",
       "              ('J', 'O', 'H'): 0.5187862857295419,\n",
       "              ('O', 'H', 'N'): 0.7095044680298122,\n",
       "              ('H', 'N', 'S'): 0.6607486559777127,\n",
       "              ('N', 'S', 'O'): 0.31101019827161863,\n",
       "              ('S', 'O', 'N'): 0.9027292881134743,\n",
       "              ('O', 'N', '>'): 0.7105529775243876,\n",
       "              ('N', '>', '>'): 1.0}))"
      ]
     },
     "execution_count": 100,
     "metadata": {},
     "output_type": "execute_result"
    }
   ],
   "source": [
    "get_name_prob(\"johnson\", whi_model, return_probs = True)"
   ]
  },
  {
   "cell_type": "markdown",
   "id": "successful-firmware",
   "metadata": {},
   "source": [
    "### Save out the models"
   ]
  },
  {
   "cell_type": "code",
   "execution_count": 101,
   "id": "french-stations",
   "metadata": {
    "scrolled": false
   },
   "outputs": [],
   "source": [
    "# Save out white model\n",
    "df = pd.DataFrame.from_dict(whi_model).transpose()\n",
    "df.to_csv(\"whi_cond_probs.csv\")"
   ]
  },
  {
   "cell_type": "code",
   "execution_count": 102,
   "id": "configured-registration",
   "metadata": {},
   "outputs": [],
   "source": [
    "# Save out black model\n",
    "df = pd.DataFrame.from_dict(bla_model).transpose()\n",
    "df.to_csv(\"bla_cond_probs.csv\")"
   ]
  },
  {
   "cell_type": "code",
   "execution_count": 103,
   "id": "bulgarian-transport",
   "metadata": {},
   "outputs": [],
   "source": [
    "df = pd.DataFrame.from_dict(his_model).transpose()\n",
    "df.to_csv(\"his_cond_probs.csv\")"
   ]
  },
  {
   "cell_type": "code",
   "execution_count": 104,
   "id": "heavy-notice",
   "metadata": {},
   "outputs": [],
   "source": [
    "df = pd.DataFrame.from_dict(asi_model).transpose()\n",
    "df.to_csv(\"asi_cond_probs.csv\")"
   ]
  },
  {
   "cell_type": "code",
   "execution_count": 105,
   "id": "critical-twelve",
   "metadata": {},
   "outputs": [],
   "source": [
    "df = pd.DataFrame.from_dict(oth_model).transpose()\n",
    "df.to_csv(\"oth_cond_probs.csv\")"
   ]
  }
 ],
 "metadata": {
  "kernelspec": {
   "display_name": "Python 3",
   "language": "python",
   "name": "python3"
  },
  "language_info": {
   "codemirror_mode": {
    "name": "ipython",
    "version": 3
   },
   "file_extension": ".py",
   "mimetype": "text/x-python",
   "name": "python",
   "nbconvert_exporter": "python",
   "pygments_lexer": "ipython3",
   "version": "3.8.6"
  }
 },
 "nbformat": 4,
 "nbformat_minor": 5
}
